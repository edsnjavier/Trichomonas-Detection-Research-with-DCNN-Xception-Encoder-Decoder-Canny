{
  "nbformat": 4,
  "nbformat_minor": 0,
  "metadata": {
    "colab": {
      "provenance": []
    },
    "kernelspec": {
      "name": "python3",
      "display_name": "Python 3"
    },
    "language_info": {
      "name": "python"
    }
  },
  "cells": [
    {
      "cell_type": "code",
      "source": [
        "!pip install gradio --upgrade"
      ],
      "metadata": {
        "colab": {
          "base_uri": "https://localhost:8080/"
        },
        "id": "Ey5JWwqH1YTN",
        "outputId": "c684a293-6d01-4230-f308-653a3b65debe"
      },
      "execution_count": null,
      "outputs": [
        {
          "output_type": "stream",
          "name": "stdout",
          "text": [
            "Collecting gradio\n",
            "  Downloading gradio-5.8.0-py3-none-any.whl.metadata (16 kB)\n",
            "Collecting aiofiles<24.0,>=22.0 (from gradio)\n",
            "  Downloading aiofiles-23.2.1-py3-none-any.whl.metadata (9.7 kB)\n",
            "Requirement already satisfied: anyio<5.0,>=3.0 in /usr/local/lib/python3.10/dist-packages (from gradio) (3.7.1)\n",
            "Collecting fastapi<1.0,>=0.115.2 (from gradio)\n",
            "  Downloading fastapi-0.115.6-py3-none-any.whl.metadata (27 kB)\n",
            "Collecting ffmpy (from gradio)\n",
            "  Downloading ffmpy-0.4.0-py3-none-any.whl.metadata (2.9 kB)\n",
            "Collecting gradio-client==1.5.1 (from gradio)\n",
            "  Downloading gradio_client-1.5.1-py3-none-any.whl.metadata (7.1 kB)\n",
            "Requirement already satisfied: httpx>=0.24.1 in /usr/local/lib/python3.10/dist-packages (from gradio) (0.28.0)\n",
            "Requirement already satisfied: huggingface-hub>=0.25.1 in /usr/local/lib/python3.10/dist-packages (from gradio) (0.26.3)\n",
            "Requirement already satisfied: jinja2<4.0 in /usr/local/lib/python3.10/dist-packages (from gradio) (3.1.4)\n",
            "Collecting markupsafe~=2.0 (from gradio)\n",
            "  Downloading MarkupSafe-2.1.5-cp310-cp310-manylinux_2_17_x86_64.manylinux2014_x86_64.whl.metadata (3.0 kB)\n",
            "Requirement already satisfied: numpy<3.0,>=1.0 in /usr/local/lib/python3.10/dist-packages (from gradio) (1.26.4)\n",
            "Requirement already satisfied: orjson~=3.0 in /usr/local/lib/python3.10/dist-packages (from gradio) (3.10.12)\n",
            "Requirement already satisfied: packaging in /usr/local/lib/python3.10/dist-packages (from gradio) (24.2)\n",
            "Requirement already satisfied: pandas<3.0,>=1.0 in /usr/local/lib/python3.10/dist-packages (from gradio) (2.2.2)\n",
            "Requirement already satisfied: pillow<12.0,>=8.0 in /usr/local/lib/python3.10/dist-packages (from gradio) (11.0.0)\n",
            "Requirement already satisfied: pydantic>=2.0 in /usr/local/lib/python3.10/dist-packages (from gradio) (2.10.3)\n",
            "Collecting pydub (from gradio)\n",
            "  Downloading pydub-0.25.1-py2.py3-none-any.whl.metadata (1.4 kB)\n",
            "Collecting python-multipart>=0.0.18 (from gradio)\n",
            "  Downloading python_multipart-0.0.19-py3-none-any.whl.metadata (1.8 kB)\n",
            "Requirement already satisfied: pyyaml<7.0,>=5.0 in /usr/local/lib/python3.10/dist-packages (from gradio) (6.0.2)\n",
            "Collecting ruff>=0.2.2 (from gradio)\n",
            "  Downloading ruff-0.8.2-py3-none-manylinux_2_17_x86_64.manylinux2014_x86_64.whl.metadata (25 kB)\n",
            "Collecting safehttpx<0.2.0,>=0.1.6 (from gradio)\n",
            "  Downloading safehttpx-0.1.6-py3-none-any.whl.metadata (4.2 kB)\n",
            "Collecting semantic-version~=2.0 (from gradio)\n",
            "  Downloading semantic_version-2.10.0-py2.py3-none-any.whl.metadata (9.7 kB)\n",
            "Collecting starlette<1.0,>=0.40.0 (from gradio)\n",
            "  Downloading starlette-0.41.3-py3-none-any.whl.metadata (6.0 kB)\n",
            "Collecting tomlkit<0.14.0,>=0.12.0 (from gradio)\n",
            "  Downloading tomlkit-0.13.2-py3-none-any.whl.metadata (2.7 kB)\n",
            "Requirement already satisfied: typer<1.0,>=0.12 in /usr/local/lib/python3.10/dist-packages (from gradio) (0.15.0)\n",
            "Requirement already satisfied: typing-extensions~=4.0 in /usr/local/lib/python3.10/dist-packages (from gradio) (4.12.2)\n",
            "Collecting uvicorn>=0.14.0 (from gradio)\n",
            "  Downloading uvicorn-0.32.1-py3-none-any.whl.metadata (6.6 kB)\n",
            "Requirement already satisfied: fsspec in /usr/local/lib/python3.10/dist-packages (from gradio-client==1.5.1->gradio) (2024.10.0)\n",
            "Collecting websockets<15.0,>=10.0 (from gradio-client==1.5.1->gradio)\n",
            "  Downloading websockets-14.1-cp310-cp310-manylinux_2_5_x86_64.manylinux1_x86_64.manylinux_2_17_x86_64.manylinux2014_x86_64.whl.metadata (6.7 kB)\n",
            "Requirement already satisfied: idna>=2.8 in /usr/local/lib/python3.10/dist-packages (from anyio<5.0,>=3.0->gradio) (3.10)\n",
            "Requirement already satisfied: sniffio>=1.1 in /usr/local/lib/python3.10/dist-packages (from anyio<5.0,>=3.0->gradio) (1.3.1)\n",
            "Requirement already satisfied: exceptiongroup in /usr/local/lib/python3.10/dist-packages (from anyio<5.0,>=3.0->gradio) (1.2.2)\n",
            "Requirement already satisfied: certifi in /usr/local/lib/python3.10/dist-packages (from httpx>=0.24.1->gradio) (2024.8.30)\n",
            "Requirement already satisfied: httpcore==1.* in /usr/local/lib/python3.10/dist-packages (from httpx>=0.24.1->gradio) (1.0.7)\n",
            "Requirement already satisfied: h11<0.15,>=0.13 in /usr/local/lib/python3.10/dist-packages (from httpcore==1.*->httpx>=0.24.1->gradio) (0.14.0)\n",
            "Requirement already satisfied: filelock in /usr/local/lib/python3.10/dist-packages (from huggingface-hub>=0.25.1->gradio) (3.16.1)\n",
            "Requirement already satisfied: requests in /usr/local/lib/python3.10/dist-packages (from huggingface-hub>=0.25.1->gradio) (2.32.3)\n",
            "Requirement already satisfied: tqdm>=4.42.1 in /usr/local/lib/python3.10/dist-packages (from huggingface-hub>=0.25.1->gradio) (4.66.6)\n",
            "Requirement already satisfied: python-dateutil>=2.8.2 in /usr/local/lib/python3.10/dist-packages (from pandas<3.0,>=1.0->gradio) (2.8.2)\n",
            "Requirement already satisfied: pytz>=2020.1 in /usr/local/lib/python3.10/dist-packages (from pandas<3.0,>=1.0->gradio) (2024.2)\n",
            "Requirement already satisfied: tzdata>=2022.7 in /usr/local/lib/python3.10/dist-packages (from pandas<3.0,>=1.0->gradio) (2024.2)\n",
            "Requirement already satisfied: annotated-types>=0.6.0 in /usr/local/lib/python3.10/dist-packages (from pydantic>=2.0->gradio) (0.7.0)\n",
            "Requirement already satisfied: pydantic-core==2.27.1 in /usr/local/lib/python3.10/dist-packages (from pydantic>=2.0->gradio) (2.27.1)\n",
            "Requirement already satisfied: click>=8.0.0 in /usr/local/lib/python3.10/dist-packages (from typer<1.0,>=0.12->gradio) (8.1.7)\n",
            "Requirement already satisfied: shellingham>=1.3.0 in /usr/local/lib/python3.10/dist-packages (from typer<1.0,>=0.12->gradio) (1.5.4)\n",
            "Requirement already satisfied: rich>=10.11.0 in /usr/local/lib/python3.10/dist-packages (from typer<1.0,>=0.12->gradio) (13.9.4)\n",
            "Requirement already satisfied: six>=1.5 in /usr/local/lib/python3.10/dist-packages (from python-dateutil>=2.8.2->pandas<3.0,>=1.0->gradio) (1.16.0)\n",
            "Requirement already satisfied: markdown-it-py>=2.2.0 in /usr/local/lib/python3.10/dist-packages (from rich>=10.11.0->typer<1.0,>=0.12->gradio) (3.0.0)\n",
            "Requirement already satisfied: pygments<3.0.0,>=2.13.0 in /usr/local/lib/python3.10/dist-packages (from rich>=10.11.0->typer<1.0,>=0.12->gradio) (2.18.0)\n",
            "Requirement already satisfied: charset-normalizer<4,>=2 in /usr/local/lib/python3.10/dist-packages (from requests->huggingface-hub>=0.25.1->gradio) (3.4.0)\n",
            "Requirement already satisfied: urllib3<3,>=1.21.1 in /usr/local/lib/python3.10/dist-packages (from requests->huggingface-hub>=0.25.1->gradio) (2.2.3)\n",
            "Requirement already satisfied: mdurl~=0.1 in /usr/local/lib/python3.10/dist-packages (from markdown-it-py>=2.2.0->rich>=10.11.0->typer<1.0,>=0.12->gradio) (0.1.2)\n",
            "Downloading gradio-5.8.0-py3-none-any.whl (57.2 MB)\n",
            "\u001b[2K   \u001b[90m━━━━━━━━━━━━━━━━━━━━━━━━━━━━━━━━━━━━━━━━\u001b[0m \u001b[32m57.2/57.2 MB\u001b[0m \u001b[31m15.1 MB/s\u001b[0m eta \u001b[36m0:00:00\u001b[0m\n",
            "\u001b[?25hDownloading gradio_client-1.5.1-py3-none-any.whl (320 kB)\n",
            "\u001b[2K   \u001b[90m━━━━━━━━━━━━━━━━━━━━━━━━━━━━━━━━━━━━━━━━\u001b[0m \u001b[32m320.2/320.2 kB\u001b[0m \u001b[31m18.6 MB/s\u001b[0m eta \u001b[36m0:00:00\u001b[0m\n",
            "\u001b[?25hDownloading aiofiles-23.2.1-py3-none-any.whl (15 kB)\n",
            "Downloading fastapi-0.115.6-py3-none-any.whl (94 kB)\n",
            "\u001b[2K   \u001b[90m━━━━━━━━━━━━━━━━━━━━━━━━━━━━━━━━━━━━━━━━\u001b[0m \u001b[32m94.8/94.8 kB\u001b[0m \u001b[31m6.5 MB/s\u001b[0m eta \u001b[36m0:00:00\u001b[0m\n",
            "\u001b[?25hDownloading MarkupSafe-2.1.5-cp310-cp310-manylinux_2_17_x86_64.manylinux2014_x86_64.whl (25 kB)\n",
            "Downloading python_multipart-0.0.19-py3-none-any.whl (24 kB)\n",
            "Downloading ruff-0.8.2-py3-none-manylinux_2_17_x86_64.manylinux2014_x86_64.whl (11.2 MB)\n",
            "\u001b[2K   \u001b[90m━━━━━━━━━━━━━━━━━━━━━━━━━━━━━━━━━━━━━━━━\u001b[0m \u001b[32m11.2/11.2 MB\u001b[0m \u001b[31m82.1 MB/s\u001b[0m eta \u001b[36m0:00:00\u001b[0m\n",
            "\u001b[?25hDownloading safehttpx-0.1.6-py3-none-any.whl (8.7 kB)\n",
            "Downloading semantic_version-2.10.0-py2.py3-none-any.whl (15 kB)\n",
            "Downloading starlette-0.41.3-py3-none-any.whl (73 kB)\n",
            "\u001b[2K   \u001b[90m━━━━━━━━━━━━━━━━━━━━━━━━━━━━━━━━━━━━━━━━\u001b[0m \u001b[32m73.2/73.2 kB\u001b[0m \u001b[31m5.3 MB/s\u001b[0m eta \u001b[36m0:00:00\u001b[0m\n",
            "\u001b[?25hDownloading tomlkit-0.13.2-py3-none-any.whl (37 kB)\n",
            "Downloading uvicorn-0.32.1-py3-none-any.whl (63 kB)\n",
            "\u001b[2K   \u001b[90m━━━━━━━━━━━━━━━━━━━━━━━━━━━━━━━━━━━━━━━━\u001b[0m \u001b[32m63.8/63.8 kB\u001b[0m \u001b[31m4.4 MB/s\u001b[0m eta \u001b[36m0:00:00\u001b[0m\n",
            "\u001b[?25hDownloading ffmpy-0.4.0-py3-none-any.whl (5.8 kB)\n",
            "Downloading pydub-0.25.1-py2.py3-none-any.whl (32 kB)\n",
            "Downloading websockets-14.1-cp310-cp310-manylinux_2_5_x86_64.manylinux1_x86_64.manylinux_2_17_x86_64.manylinux2014_x86_64.whl (168 kB)\n",
            "\u001b[2K   \u001b[90m━━━━━━━━━━━━━━━━━━━━━━━━━━━━━━━━━━━━━━━━\u001b[0m \u001b[32m168.2/168.2 kB\u001b[0m \u001b[31m11.0 MB/s\u001b[0m eta \u001b[36m0:00:00\u001b[0m\n",
            "\u001b[?25hInstalling collected packages: pydub, websockets, uvicorn, tomlkit, semantic-version, ruff, python-multipart, markupsafe, ffmpy, aiofiles, starlette, safehttpx, gradio-client, fastapi, gradio\n",
            "  Attempting uninstall: markupsafe\n",
            "    Found existing installation: MarkupSafe 3.0.2\n",
            "    Uninstalling MarkupSafe-3.0.2:\n",
            "      Successfully uninstalled MarkupSafe-3.0.2\n",
            "Successfully installed aiofiles-23.2.1 fastapi-0.115.6 ffmpy-0.4.0 gradio-5.8.0 gradio-client-1.5.1 markupsafe-2.1.5 pydub-0.25.1 python-multipart-0.0.19 ruff-0.8.2 safehttpx-0.1.6 semantic-version-2.10.0 starlette-0.41.3 tomlkit-0.13.2 uvicorn-0.32.1 websockets-14.1\n"
          ]
        }
      ]
    },
    {
      "cell_type": "code",
      "source": [
        "from google.colab import drive\n",
        "drive.mount('/content/drive')"
      ],
      "metadata": {
        "colab": {
          "base_uri": "https://localhost:8080/"
        },
        "id": "v4o41JEW8uH6",
        "outputId": "82b6403b-a661-4ac2-a811-68a441355de8"
      },
      "execution_count": null,
      "outputs": [
        {
          "output_type": "stream",
          "name": "stdout",
          "text": [
            "Mounted at /content/drive\n"
          ]
        }
      ]
    },
    {
      "cell_type": "code",
      "source": [
        "%cd /content/drive/My Drive/FinalProject/"
      ],
      "metadata": {
        "colab": {
          "base_uri": "https://localhost:8080/"
        },
        "id": "HtsHvGsf8umD",
        "outputId": "0de66cb8-b952-488d-a532-efd1568c6030"
      },
      "execution_count": null,
      "outputs": [
        {
          "output_type": "stream",
          "name": "stdout",
          "text": [
            "/content/drive/.shortcut-targets-by-id/1jSrOhQqocwt88cBXGRwOFWQ8gKv3DI8i/FinalProject\n"
          ]
        }
      ]
    },
    {
      "cell_type": "code",
      "source": [
        "import gradio as gr\n",
        "import tensorflow as tf\n",
        "from tensorflow.keras.models import load_model\n",
        "import numpy as np\n",
        "from PIL import Image\n",
        "from tensorflow import keras\n",
        "import cv2\n",
        "import os\n",
        "\n",
        "# Directory containing the model file\n",
        "dcnn = \"/content/drive/MyDrive/FinalProject/base no canny.keras\"\n",
        "encoder = \"/content/drive/MyDrive/FinalProject/encoder.keras\"\n",
        "dcnn_canny = \"/content/drive/MyDrive/FinalProject/0.25.keras\"\n",
        "encoder_canny = \"/content/drive/MyDrive/FinalProject/encoder_x.keras\"\n",
        "\n",
        "# Load the models\n",
        "dcnn_xception_model = load_model(dcnn)\n",
        "encoder_decoder_model = load_model(encoder)\n",
        "dcnn_xception_canny_model = load_model(dcnn_canny)\n",
        "encoder_decoder_canny_model = load_model(encoder_canny)\n",
        "\n",
        "# Validate the image extension to ensure it's PNG, JPG, or JPEG\n",
        "def validate_image(image_path):\n",
        "    allowed_extensions = ['.png', '.jpg', '.jpeg']\n",
        "    _, ext = os.path.splitext(image_path)\n",
        "    return ext.lower() in allowed_extensions\n",
        "\n",
        "# Apply pre-processing\n",
        "def apply_canny_and_blend(image_path, alpha=0.25):\n",
        "    image = cv2.imread(image_path)\n",
        "    if image is None:\n",
        "        raise ValueError(\"Invalid image. Ensure the file path is correct and the file is an image.\")\n",
        "\n",
        "    # Convert image to grayscale for Canny\n",
        "    gray = cv2.cvtColor(image, cv2.COLOR_BGR2GRAY)\n",
        "    edges = cv2.Canny(gray, 65, 100)  # Perform Canny edge detection\n",
        "\n",
        "    # Convert edges to 3-channel image\n",
        "    edges_3_channel = cv2.cvtColor(edges, cv2.COLOR_GRAY2BGR)\n",
        "\n",
        "    # Resize edges to match the original image (if necessary)\n",
        "    if image.shape != edges_3_channel.shape:\n",
        "        edges_3_channel = cv2.resize(edges_3_channel, (image.shape[1], image.shape[0]))\n",
        "\n",
        "    # Perform alpha blending\n",
        "    blended_image = cv2.addWeighted(image, 1 - alpha, edges_3_channel, alpha, 0)\n",
        "    return blended_image\n",
        "\n",
        "# Predicting the images\n",
        "def predict(image, model_choice, canny_choice):\n",
        "    if not image:\n",
        "        return \"Please upload an image.\"\n",
        "\n",
        "    try:\n",
        "        # Validate image extension\n",
        "        if not validate_image(image):\n",
        "            return \"Invalid file type. Allowed file types: PNG, JPG, JPEG.\"\n",
        "\n",
        "        # Apply Canny edge detection and blending if selected\n",
        "        if canny_choice == \"With Canny\":\n",
        "            blended_image = apply_canny_and_blend(image)\n",
        "            img = Image.fromarray(cv2.cvtColor(blended_image, cv2.COLOR_BGR2RGB))\n",
        "        else:\n",
        "            img = Image.open(image).convert(\"RGB\")  # Ensure 3 channels for RGB if not selected\n",
        "\n",
        "        # Resize image based on selected model\n",
        "        if model_choice == \"DCNN-Xception\":\n",
        "            img = img.resize((299, 299))  # Resize to 299x299 for DCNN-Xception\n",
        "            model = dcnn_xception_canny_model if canny_choice == \"With Canny\" else dcnn_xception_model\n",
        "        elif model_choice == \"Encoder-Decoder\":\n",
        "            img = img.resize((224, 224))  # Resize to 224x224 for Encoder-Decoder\n",
        "            model = encoder_decoder_canny_model if canny_choice == \"With Canny\" else encoder_decoder_model\n",
        "        else:\n",
        "            return \"Invalid model choice.\"\n",
        "\n",
        "        # Convert image to array\n",
        "        img_array = keras.preprocessing.image.img_to_array(img)\n",
        "        img_array = tf.expand_dims(img_array, 0)  # Add batch dimension\n",
        "\n",
        "        # Make predictions using the selected model\n",
        "        predictions = model.predict(img_array)\n",
        "\n",
        "        # Decode predictions into percentages\n",
        "        negative, positive = tuple(predictions[0])\n",
        "\n",
        "        # Determine the class with the highest value and show output\n",
        "        if positive > negative:\n",
        "            return f\"This image is positive ({positive * 100:.2f}% confidence). Suggestion: Parasite found. Consider further investigation.\"\n",
        "        else:\n",
        "            return f\"This image is negative ({negative * 100:.2f}% confidence). No parasite detected.\"\n",
        "\n",
        "    except Exception as e:\n",
        "        return f\"Error processing image: {e}\"\n",
        "\n",
        "# Model and Canny choices for user\n",
        "model_choices = [\"---\", \"DCNN-Xception\", \"Encoder-Decoder\"]\n",
        "canny_choices = [\"Without Canny\", \"With Canny\"]\n",
        "\n",
        "#  GUI Interface\n",
        "with gr.Blocks(theme=gr.themes.Citrus()) as demo:\n",
        "    gr.Markdown(\"\"\"\n",
        "    <link href=\"https://fonts.googleapis.com/css2?family=Noto+Sans:ital,wght@0,100..900;1,100..900&display=swap\" rel=\"stylesheet\">\n",
        "    <div style=\"font-family: 'Noto Sans', sans-serif; text-align: center; font-size: 24px;\">\n",
        "        <strong>Detection of <em>Trichomonas vaginalis</em> in Microscopic Images Using DCNN-Xception with Canny Edge Detection</strong>\n",
        "    </div>\n",
        "    \"\"\")\n",
        "\n",
        "    gr.Markdown(\"\"\"\n",
        "    <link href=\"https://fonts.googleapis.com/css2?family=Noto+Sans:ital,wght@0,100..900;1,100..900&display=swap\" rel=\"stylesheet\">\n",
        "    <div style=\"font-family: 'Noto Sans', sans-serif; text-align: center; font-size: 16px;\">\n",
        "        University of Santo Tomas College of Information and Computing Sciences<br>\n",
        "        Guevarra, Javier, Tapao (2024)\n",
        "    </div>\n",
        "    \"\"\")\n",
        "\n",
        "    # GUI components\n",
        "    with gr.Row():\n",
        "        with gr.Column(scale=2, min_width=300):\n",
        "            model_dropdown = gr.Dropdown(choices=model_choices, label=\"Select Model Architecture\")\n",
        "            image_input = gr.Image(label=\"Upload Image File\", type=\"filepath\", interactive=True)\n",
        "            gr.Markdown(\"\"\"\n",
        "            <link href=\"https://fonts.googleapis.com/css2?family=Noto+Sans:ital,wght@0,100..900;1,100..900&display=swap\" rel=\"stylesheet\">\n",
        "            <div style=\"font-family: 'Noto Sans', sans-serif; text-align: center; font-size: 12px; color: grey;\">\n",
        "                <strong>Allowed file types:</strong> .PNG, .JPG, .JPEG\n",
        "            </div>\n",
        "            \"\"\")\n",
        "\n",
        "        with gr.Column(scale=1, min_width=800):\n",
        "            canny_toggle = gr.Radio(choices=canny_choices, label=\"Canny Edge Detection\")\n",
        "            output = gr.Textbox(label=\"Prediction\")\n",
        "            submit_button = gr.Button(\"Submit\")\n",
        "            reset_button = gr.Button(\"Reset\")\n",
        "\n",
        "        # Button actions\n",
        "        submit_button.click(predict, inputs=[image_input, model_dropdown, canny_toggle], outputs=output)\n",
        "        reset_button.click(\n",
        "            lambda: (\"\", None, \"\", \"\"),  # Reset values for model_dropdown, image_input, and canny_toggle\n",
        "            inputs=[],\n",
        "            outputs=[model_dropdown, image_input, canny_toggle, output]\n",
        "        )\n",
        "\n",
        "demo.launch()"
      ],
      "metadata": {
        "colab": {
          "base_uri": "https://localhost:8080/",
          "height": 646
        },
        "id": "Nj9O3bOG6ToX",
        "outputId": "96254165-818e-4cef-ee98-405ac18f71ce"
      },
      "execution_count": null,
      "outputs": [
        {
          "output_type": "stream",
          "name": "stdout",
          "text": [
            "Running Gradio in a Colab notebook requires sharing enabled. Automatically setting `share=True` (you can turn this off by setting `share=False` in `launch()` explicitly).\n",
            "\n",
            "Colab notebook detected. To show errors in colab notebook, set debug=True in launch()\n",
            "* Running on public URL: https://65ae29076938c5ecd6.gradio.live\n",
            "\n",
            "This share link expires in 72 hours. For free permanent hosting and GPU upgrades, run `gradio deploy` from the terminal in the working directory to deploy to Hugging Face Spaces (https://huggingface.co/spaces)\n"
          ]
        },
        {
          "output_type": "display_data",
          "data": {
            "text/plain": [
              "<IPython.core.display.HTML object>"
            ],
            "text/html": [
              "<div><iframe src=\"https://65ae29076938c5ecd6.gradio.live\" width=\"100%\" height=\"500\" allow=\"autoplay; camera; microphone; clipboard-read; clipboard-write;\" frameborder=\"0\" allowfullscreen></iframe></div>"
            ]
          },
          "metadata": {}
        },
        {
          "output_type": "execute_result",
          "data": {
            "text/plain": []
          },
          "metadata": {},
          "execution_count": 4
        }
      ]
    },
    {
      "cell_type": "code",
      "source": [
        "pip install gradio pyinstaller tensorflow\n"
      ],
      "metadata": {
        "colab": {
          "base_uri": "https://localhost:8080/"
        },
        "id": "RfNkNEymIwP6",
        "outputId": "98795918-dc95-44c6-f6e8-200f3cac8179"
      },
      "execution_count": null,
      "outputs": [
        {
          "output_type": "stream",
          "name": "stdout",
          "text": [
            "Requirement already satisfied: gradio in /usr/local/lib/python3.10/dist-packages (5.8.0)\n",
            "Collecting pyinstaller\n",
            "  Downloading pyinstaller-6.11.1-py3-none-manylinux2014_x86_64.whl.metadata (8.3 kB)\n",
            "Requirement already satisfied: tensorflow in /usr/local/lib/python3.10/dist-packages (2.17.1)\n",
            "Requirement already satisfied: aiofiles<24.0,>=22.0 in /usr/local/lib/python3.10/dist-packages (from gradio) (23.2.1)\n",
            "Requirement already satisfied: anyio<5.0,>=3.0 in /usr/local/lib/python3.10/dist-packages (from gradio) (3.7.1)\n",
            "Requirement already satisfied: fastapi<1.0,>=0.115.2 in /usr/local/lib/python3.10/dist-packages (from gradio) (0.115.6)\n",
            "Requirement already satisfied: ffmpy in /usr/local/lib/python3.10/dist-packages (from gradio) (0.4.0)\n",
            "Requirement already satisfied: gradio-client==1.5.1 in /usr/local/lib/python3.10/dist-packages (from gradio) (1.5.1)\n",
            "Requirement already satisfied: httpx>=0.24.1 in /usr/local/lib/python3.10/dist-packages (from gradio) (0.28.0)\n",
            "Requirement already satisfied: huggingface-hub>=0.25.1 in /usr/local/lib/python3.10/dist-packages (from gradio) (0.26.3)\n",
            "Requirement already satisfied: jinja2<4.0 in /usr/local/lib/python3.10/dist-packages (from gradio) (3.1.4)\n",
            "Requirement already satisfied: markupsafe~=2.0 in /usr/local/lib/python3.10/dist-packages (from gradio) (2.1.5)\n",
            "Requirement already satisfied: numpy<3.0,>=1.0 in /usr/local/lib/python3.10/dist-packages (from gradio) (1.26.4)\n",
            "Requirement already satisfied: orjson~=3.0 in /usr/local/lib/python3.10/dist-packages (from gradio) (3.10.12)\n",
            "Requirement already satisfied: packaging in /usr/local/lib/python3.10/dist-packages (from gradio) (24.2)\n",
            "Requirement already satisfied: pandas<3.0,>=1.0 in /usr/local/lib/python3.10/dist-packages (from gradio) (2.2.2)\n",
            "Requirement already satisfied: pillow<12.0,>=8.0 in /usr/local/lib/python3.10/dist-packages (from gradio) (11.0.0)\n",
            "Requirement already satisfied: pydantic>=2.0 in /usr/local/lib/python3.10/dist-packages (from gradio) (2.10.3)\n",
            "Requirement already satisfied: pydub in /usr/local/lib/python3.10/dist-packages (from gradio) (0.25.1)\n",
            "Requirement already satisfied: python-multipart>=0.0.18 in /usr/local/lib/python3.10/dist-packages (from gradio) (0.0.19)\n",
            "Requirement already satisfied: pyyaml<7.0,>=5.0 in /usr/local/lib/python3.10/dist-packages (from gradio) (6.0.2)\n",
            "Requirement already satisfied: ruff>=0.2.2 in /usr/local/lib/python3.10/dist-packages (from gradio) (0.8.2)\n",
            "Requirement already satisfied: safehttpx<0.2.0,>=0.1.6 in /usr/local/lib/python3.10/dist-packages (from gradio) (0.1.6)\n",
            "Requirement already satisfied: semantic-version~=2.0 in /usr/local/lib/python3.10/dist-packages (from gradio) (2.10.0)\n",
            "Requirement already satisfied: starlette<1.0,>=0.40.0 in /usr/local/lib/python3.10/dist-packages (from gradio) (0.41.3)\n",
            "Requirement already satisfied: tomlkit<0.14.0,>=0.12.0 in /usr/local/lib/python3.10/dist-packages (from gradio) (0.13.2)\n",
            "Requirement already satisfied: typer<1.0,>=0.12 in /usr/local/lib/python3.10/dist-packages (from gradio) (0.15.0)\n",
            "Requirement already satisfied: typing-extensions~=4.0 in /usr/local/lib/python3.10/dist-packages (from gradio) (4.12.2)\n",
            "Requirement already satisfied: uvicorn>=0.14.0 in /usr/local/lib/python3.10/dist-packages (from gradio) (0.32.1)\n",
            "Requirement already satisfied: fsspec in /usr/local/lib/python3.10/dist-packages (from gradio-client==1.5.1->gradio) (2024.10.0)\n",
            "Requirement already satisfied: websockets<15.0,>=10.0 in /usr/local/lib/python3.10/dist-packages (from gradio-client==1.5.1->gradio) (14.1)\n",
            "Requirement already satisfied: setuptools>=42.0.0 in /usr/local/lib/python3.10/dist-packages (from pyinstaller) (75.1.0)\n",
            "Collecting altgraph (from pyinstaller)\n",
            "  Downloading altgraph-0.17.4-py2.py3-none-any.whl.metadata (7.3 kB)\n",
            "Collecting pyinstaller-hooks-contrib>=2024.9 (from pyinstaller)\n",
            "  Downloading pyinstaller_hooks_contrib-2024.10-py3-none-any.whl.metadata (16 kB)\n",
            "Requirement already satisfied: absl-py>=1.0.0 in /usr/local/lib/python3.10/dist-packages (from tensorflow) (1.4.0)\n",
            "Requirement already satisfied: astunparse>=1.6.0 in /usr/local/lib/python3.10/dist-packages (from tensorflow) (1.6.3)\n",
            "Requirement already satisfied: flatbuffers>=24.3.25 in /usr/local/lib/python3.10/dist-packages (from tensorflow) (24.3.25)\n",
            "Requirement already satisfied: gast!=0.5.0,!=0.5.1,!=0.5.2,>=0.2.1 in /usr/local/lib/python3.10/dist-packages (from tensorflow) (0.6.0)\n",
            "Requirement already satisfied: google-pasta>=0.1.1 in /usr/local/lib/python3.10/dist-packages (from tensorflow) (0.2.0)\n",
            "Requirement already satisfied: h5py>=3.10.0 in /usr/local/lib/python3.10/dist-packages (from tensorflow) (3.12.1)\n",
            "Requirement already satisfied: libclang>=13.0.0 in /usr/local/lib/python3.10/dist-packages (from tensorflow) (18.1.1)\n",
            "Requirement already satisfied: ml-dtypes<0.5.0,>=0.3.1 in /usr/local/lib/python3.10/dist-packages (from tensorflow) (0.4.1)\n",
            "Requirement already satisfied: opt-einsum>=2.3.2 in /usr/local/lib/python3.10/dist-packages (from tensorflow) (3.4.0)\n",
            "Requirement already satisfied: protobuf!=4.21.0,!=4.21.1,!=4.21.2,!=4.21.3,!=4.21.4,!=4.21.5,<5.0.0dev,>=3.20.3 in /usr/local/lib/python3.10/dist-packages (from tensorflow) (4.25.5)\n",
            "Requirement already satisfied: requests<3,>=2.21.0 in /usr/local/lib/python3.10/dist-packages (from tensorflow) (2.32.3)\n",
            "Requirement already satisfied: six>=1.12.0 in /usr/local/lib/python3.10/dist-packages (from tensorflow) (1.16.0)\n",
            "Requirement already satisfied: termcolor>=1.1.0 in /usr/local/lib/python3.10/dist-packages (from tensorflow) (2.5.0)\n",
            "Requirement already satisfied: wrapt>=1.11.0 in /usr/local/lib/python3.10/dist-packages (from tensorflow) (1.17.0)\n",
            "Requirement already satisfied: grpcio<2.0,>=1.24.3 in /usr/local/lib/python3.10/dist-packages (from tensorflow) (1.68.1)\n",
            "Requirement already satisfied: tensorboard<2.18,>=2.17 in /usr/local/lib/python3.10/dist-packages (from tensorflow) (2.17.1)\n",
            "Requirement already satisfied: keras>=3.2.0 in /usr/local/lib/python3.10/dist-packages (from tensorflow) (3.5.0)\n",
            "Requirement already satisfied: tensorflow-io-gcs-filesystem>=0.23.1 in /usr/local/lib/python3.10/dist-packages (from tensorflow) (0.37.1)\n",
            "Requirement already satisfied: idna>=2.8 in /usr/local/lib/python3.10/dist-packages (from anyio<5.0,>=3.0->gradio) (3.10)\n",
            "Requirement already satisfied: sniffio>=1.1 in /usr/local/lib/python3.10/dist-packages (from anyio<5.0,>=3.0->gradio) (1.3.1)\n",
            "Requirement already satisfied: exceptiongroup in /usr/local/lib/python3.10/dist-packages (from anyio<5.0,>=3.0->gradio) (1.2.2)\n",
            "Requirement already satisfied: wheel<1.0,>=0.23.0 in /usr/local/lib/python3.10/dist-packages (from astunparse>=1.6.0->tensorflow) (0.45.1)\n",
            "Requirement already satisfied: certifi in /usr/local/lib/python3.10/dist-packages (from httpx>=0.24.1->gradio) (2024.8.30)\n",
            "Requirement already satisfied: httpcore==1.* in /usr/local/lib/python3.10/dist-packages (from httpx>=0.24.1->gradio) (1.0.7)\n",
            "Requirement already satisfied: h11<0.15,>=0.13 in /usr/local/lib/python3.10/dist-packages (from httpcore==1.*->httpx>=0.24.1->gradio) (0.14.0)\n",
            "Requirement already satisfied: filelock in /usr/local/lib/python3.10/dist-packages (from huggingface-hub>=0.25.1->gradio) (3.16.1)\n",
            "Requirement already satisfied: tqdm>=4.42.1 in /usr/local/lib/python3.10/dist-packages (from huggingface-hub>=0.25.1->gradio) (4.66.6)\n",
            "Requirement already satisfied: rich in /usr/local/lib/python3.10/dist-packages (from keras>=3.2.0->tensorflow) (13.9.4)\n",
            "Requirement already satisfied: namex in /usr/local/lib/python3.10/dist-packages (from keras>=3.2.0->tensorflow) (0.0.8)\n",
            "Requirement already satisfied: optree in /usr/local/lib/python3.10/dist-packages (from keras>=3.2.0->tensorflow) (0.13.1)\n",
            "Requirement already satisfied: python-dateutil>=2.8.2 in /usr/local/lib/python3.10/dist-packages (from pandas<3.0,>=1.0->gradio) (2.8.2)\n",
            "Requirement already satisfied: pytz>=2020.1 in /usr/local/lib/python3.10/dist-packages (from pandas<3.0,>=1.0->gradio) (2024.2)\n",
            "Requirement already satisfied: tzdata>=2022.7 in /usr/local/lib/python3.10/dist-packages (from pandas<3.0,>=1.0->gradio) (2024.2)\n",
            "Requirement already satisfied: annotated-types>=0.6.0 in /usr/local/lib/python3.10/dist-packages (from pydantic>=2.0->gradio) (0.7.0)\n",
            "Requirement already satisfied: pydantic-core==2.27.1 in /usr/local/lib/python3.10/dist-packages (from pydantic>=2.0->gradio) (2.27.1)\n",
            "Requirement already satisfied: charset-normalizer<4,>=2 in /usr/local/lib/python3.10/dist-packages (from requests<3,>=2.21.0->tensorflow) (3.4.0)\n",
            "Requirement already satisfied: urllib3<3,>=1.21.1 in /usr/local/lib/python3.10/dist-packages (from requests<3,>=2.21.0->tensorflow) (2.2.3)\n",
            "Requirement already satisfied: markdown>=2.6.8 in /usr/local/lib/python3.10/dist-packages (from tensorboard<2.18,>=2.17->tensorflow) (3.7)\n",
            "Requirement already satisfied: tensorboard-data-server<0.8.0,>=0.7.0 in /usr/local/lib/python3.10/dist-packages (from tensorboard<2.18,>=2.17->tensorflow) (0.7.2)\n",
            "Requirement already satisfied: werkzeug>=1.0.1 in /usr/local/lib/python3.10/dist-packages (from tensorboard<2.18,>=2.17->tensorflow) (3.1.3)\n",
            "Requirement already satisfied: click>=8.0.0 in /usr/local/lib/python3.10/dist-packages (from typer<1.0,>=0.12->gradio) (8.1.7)\n",
            "Requirement already satisfied: shellingham>=1.3.0 in /usr/local/lib/python3.10/dist-packages (from typer<1.0,>=0.12->gradio) (1.5.4)\n",
            "Requirement already satisfied: markdown-it-py>=2.2.0 in /usr/local/lib/python3.10/dist-packages (from rich->keras>=3.2.0->tensorflow) (3.0.0)\n",
            "Requirement already satisfied: pygments<3.0.0,>=2.13.0 in /usr/local/lib/python3.10/dist-packages (from rich->keras>=3.2.0->tensorflow) (2.18.0)\n",
            "Requirement already satisfied: mdurl~=0.1 in /usr/local/lib/python3.10/dist-packages (from markdown-it-py>=2.2.0->rich->keras>=3.2.0->tensorflow) (0.1.2)\n",
            "Downloading pyinstaller-6.11.1-py3-none-manylinux2014_x86_64.whl (710 kB)\n",
            "\u001b[2K   \u001b[90m━━━━━━━━━━━━━━━━━━━━━━━━━━━━━━━━━━━━━━━━\u001b[0m \u001b[32m710.1/710.1 kB\u001b[0m \u001b[31m10.5 MB/s\u001b[0m eta \u001b[36m0:00:00\u001b[0m\n",
            "\u001b[?25hDownloading pyinstaller_hooks_contrib-2024.10-py3-none-any.whl (338 kB)\n",
            "\u001b[2K   \u001b[90m━━━━━━━━━━━━━━━━━━━━━━━━━━━━━━━━━━━━━━━━\u001b[0m \u001b[32m338.4/338.4 kB\u001b[0m \u001b[31m23.6 MB/s\u001b[0m eta \u001b[36m0:00:00\u001b[0m\n",
            "\u001b[?25hDownloading altgraph-0.17.4-py2.py3-none-any.whl (21 kB)\n",
            "Installing collected packages: altgraph, pyinstaller-hooks-contrib, pyinstaller\n",
            "Successfully installed altgraph-0.17.4 pyinstaller-6.11.1 pyinstaller-hooks-contrib-2024.10\n"
          ]
        }
      ]
    },
    {
      "cell_type": "code",
      "source": [
        "import gradio as gr\n",
        "import tensorflow as tf\n",
        "from tensorflow.keras.models import load_model\n",
        "import numpy as np\n",
        "from PIL import Image\n",
        "from tensorflow import keras\n",
        "import cv2\n",
        "import os\n",
        "import sys\n",
        "\n",
        "# Directory containing the model file (will be bundled by PyInstaller)\n",
        "dcnn = \"base no canny.keras\"\n",
        "encoder = \"encoder.keras\"\n",
        "dcnn_canny = \"0.25.keras\"\n",
        "encoder_canny = \"encoder_x.keras\"\n",
        "\n",
        "# Ensure models are loaded properly when running as an executable\n",
        "def load_models():\n",
        "    base_path = getattr(sys, '_MEIPASS', os.getcwd())\n",
        "\n",
        "    # Update paths based on whether running as a bundled app or directly\n",
        "    dcnn_model = load_model(os.path.join(base_path, dcnn))\n",
        "    encoder_model = load_model(os.path.join(base_path, encoder))\n",
        "    dcnn_canny_model = load_model(os.path.join(base_path, dcnn_canny))\n",
        "    encoder_canny_model = load_model(os.path.join(base_path, encoder_canny))\n",
        "\n",
        "    return dcnn_model, encoder_model, dcnn_canny_model, encoder_canny_model\n",
        "\n",
        "dcnn_xception_model, encoder_decoder_model, dcnn_xception_canny_model, encoder_decoder_canny_model = load_models()\n",
        "\n",
        "# Validate the image extension to ensure it's PNG, JPG, or JPEG\n",
        "def validate_image(image_path):\n",
        "    allowed_extensions = ['.png', '.jpg', '.jpeg']\n",
        "    _, ext = os.path.splitext(image_path)\n",
        "    return ext.lower() in allowed_extensions\n",
        "\n",
        "# Apply pre-processing\n",
        "def apply_canny_and_blend(image_path, alpha=0.25):\n",
        "    image = cv2.imread(image_path)\n",
        "    if image is None:\n",
        "        raise ValueError(\"Invalid image. Ensure the file path is correct and the file is an image.\")\n",
        "\n",
        "    gray = cv2.cvtColor(image, cv2.COLOR_BGR2GRAY)\n",
        "    edges = cv2.Canny(gray, 65, 100)\n",
        "\n",
        "    edges_3_channel = cv2.cvtColor(edges, cv2.COLOR_GRAY2BGR)\n",
        "\n",
        "    if image.shape != edges_3_channel.shape:\n",
        "        edges_3_channel = cv2.resize(edges_3_channel, (image.shape[1], image.shape[0]))\n",
        "\n",
        "    blended_image = cv2.addWeighted(image, 1 - alpha, edges_3_channel, alpha, 0)\n",
        "    return blended_image\n",
        "\n",
        "# Predicting the images\n",
        "def predict(image, model_choice, canny_choice):\n",
        "    if not image:\n",
        "        return \"Please upload an image.\"\n",
        "\n",
        "    try:\n",
        "        if not validate_image(image):\n",
        "            return \"Invalid file type. Allowed file types: PNG, JPG, JPEG.\"\n",
        "\n",
        "        if canny_choice == \"With Canny\":\n",
        "            blended_image = apply_canny_and_blend(image)\n",
        "            img = Image.fromarray(cv2.cvtColor(blended_image, cv2.COLOR_BGR2RGB))\n",
        "        else:\n",
        "            img = Image.open(image).convert(\"RGB\")\n",
        "\n",
        "        if model_choice == \"DCNN-Xception\":\n",
        "            img = img.resize((299, 299))\n",
        "            model = dcnn_xception_canny_model if canny_choice == \"With Canny\" else dcnn_xception_model\n",
        "        elif model_choice == \"Encoder-Decoder\":\n",
        "            img = img.resize((224, 224))\n",
        "            model = encoder_decoder_canny_model if canny_choice == \"With Canny\" else encoder_decoder_model\n",
        "        else:\n",
        "            return \"Invalid model choice.\"\n",
        "\n",
        "        img_array = keras.preprocessing.image.img_to_array(img)\n",
        "        img_array = tf.expand_dims(img_array, 0)\n",
        "\n",
        "        predictions = model.predict(img_array)\n",
        "\n",
        "        negative, positive = tuple(predictions[0])\n",
        "\n",
        "        if positive > negative:\n",
        "            return f\"This image is positive ({positive * 100:.2f}% confidence). Suggestion: Parasite found. Consider further investigation.\"\n",
        "        else:\n",
        "            return f\"This image is negative ({negative * 100:.2f}% confidence). No parasite detected.\"\n",
        "\n",
        "    except Exception as e:\n",
        "        return f\"Error processing image: {e}\"\n",
        "\n",
        "# Model and Canny choices for user\n",
        "model_choices = [\"---\", \"DCNN-Xception\", \"Encoder-Decoder\"]\n",
        "canny_choices = [\"Without Canny\", \"With Canny\"]\n",
        "\n",
        "#  GUI Interface\n",
        "with gr.Blocks(theme=gr.themes.Citrus()) as demo:\n",
        "    gr.Markdown(\"\"\"\n",
        "    <div style=\"font-family: 'Noto Sans', sans-serif; text-align: center; font-size: 24px;\">\n",
        "        <strong>Detection of <em>Trichomonas vaginalis</em> in Microscopic Images Using DCNN-Xception with Canny Edge Detection</strong>\n",
        "    </div>\n",
        "    \"\"\")\n",
        "\n",
        "    gr.Markdown(\"\"\"\n",
        "    <link href=\"https://fonts.googleapis.com/css2?family=Noto+Sans:ital,wght@0,100..900;1,100..900&display=swap\" rel=\"stylesheet\">\n",
        "    <div style=\"font-family: 'Noto Sans', sans-serif; text-align: center; font-size: 16px;\">\n",
        "        University of Santo Tomas College of Information and Computing Sciences<br>\n",
        "        Guevarra, Javier, Tapao (2024)\n",
        "    </div>\n",
        "    \"\"\")\n",
        "\n",
        "    # GUI components\n",
        "    with gr.Row():\n",
        "        with gr.Column(scale=2, min_width=300):\n",
        "            model_dropdown = gr.Dropdown(choices=model_choices, label=\"Select Model Architecture\")\n",
        "            image_input = gr.Image(label=\"Upload Image File\", type=\"filepath\", interactive=True)\n",
        "            gr.Markdown(\"\"\"\n",
        "            <div style=\"font-family: 'Noto Sans', sans-serif; text-align: center; font-size: 12px; color: grey;\">\n",
        "                <strong>Allowed file types:</strong> .PNG, .JPG, .JPEG\n",
        "            </div>\n",
        "            \"\"\")\n",
        "\n",
        "        with gr.Column(scale=1, min_width=800):\n",
        "            canny_toggle = gr.Radio(choices=canny_choices, label=\"Canny Edge Detection\")\n",
        "            output = gr.Textbox(label=\"Prediction\")\n",
        "            submit_button = gr.Button(\"Submit\")\n",
        "            reset_button = gr.Button(\"Reset\")\n",
        "\n",
        "        submit_button.click(predict, inputs=[image_input, model_dropdown, canny_toggle], outputs=output)\n",
        "        reset_button.click(\n",
        "            lambda: (\"\", None, \"\", \"\"),\n",
        "            inputs=[],\n",
        "            outputs=[model_dropdown, image_input, canny_toggle, output]\n",
        "        )\n",
        "\n",
        "demo.launch()\n"
      ],
      "metadata": {
        "colab": {
          "base_uri": "https://localhost:8080/",
          "height": 646
        },
        "id": "4r7gQRBaIzHt",
        "outputId": "45417af0-8eaf-4837-8a6e-9d556653822e"
      },
      "execution_count": null,
      "outputs": [
        {
          "output_type": "stream",
          "name": "stdout",
          "text": [
            "Running Gradio in a Colab notebook requires sharing enabled. Automatically setting `share=True` (you can turn this off by setting `share=False` in `launch()` explicitly).\n",
            "\n",
            "Colab notebook detected. To show errors in colab notebook, set debug=True in launch()\n",
            "* Running on public URL: https://bef66e32e933d3fcbe.gradio.live\n",
            "\n",
            "This share link expires in 72 hours. For free permanent hosting and GPU upgrades, run `gradio deploy` from the terminal in the working directory to deploy to Hugging Face Spaces (https://huggingface.co/spaces)\n"
          ]
        },
        {
          "output_type": "display_data",
          "data": {
            "text/plain": [
              "<IPython.core.display.HTML object>"
            ],
            "text/html": [
              "<div><iframe src=\"https://bef66e32e933d3fcbe.gradio.live\" width=\"100%\" height=\"500\" allow=\"autoplay; camera; microphone; clipboard-read; clipboard-write;\" frameborder=\"0\" allowfullscreen></iframe></div>"
            ]
          },
          "metadata": {}
        },
        {
          "output_type": "execute_result",
          "data": {
            "text/plain": []
          },
          "metadata": {},
          "execution_count": 27
        }
      ]
    },
    {
      "cell_type": "code",
      "source": [
        "!pip uninstall pathlib"
      ],
      "metadata": {
        "colab": {
          "base_uri": "https://localhost:8080/"
        },
        "id": "q85ARm5MMgxU",
        "outputId": "4a88434e-f759-4be7-bd1f-7eda244de84f"
      },
      "execution_count": null,
      "outputs": [
        {
          "output_type": "stream",
          "name": "stdout",
          "text": [
            "Found existing installation: pathlib 1.0.1\n",
            "Uninstalling pathlib-1.0.1:\n",
            "  Would remove:\n",
            "    /usr/local/lib/python3.10/dist-packages/pathlib-1.0.1.dist-info/*\n",
            "    /usr/local/lib/python3.10/dist-packages/pathlib.py\n",
            "Proceed (Y/n)? Y\n",
            "  Successfully uninstalled pathlib-1.0.1\n"
          ]
        }
      ]
    },
    {
      "cell_type": "code",
      "source": [
        "!pyinstaller --onefile --windowed --add-data \"base_no_canny.keras;.\" --add-data \"encoder.keras;.\" --add-data \"0.25.keras;.\" --add-data \"encoder_x.keras;.\" app.py"
      ],
      "metadata": {
        "colab": {
          "base_uri": "https://localhost:8080/"
        },
        "id": "Ymo2gDkiKNPg",
        "outputId": "42cdc095-f2cd-4337-c417-6df864afc382"
      },
      "execution_count": null,
      "outputs": [
        {
          "output_type": "stream",
          "name": "stdout",
          "text": [
            "usage: pyinstaller [-h] [-v] [-D] [-F] [--specpath DIR] [-n NAME]\n",
            "                   [--contents-directory CONTENTS_DIRECTORY] [--add-data SOURCE:DEST]\n",
            "                   [--add-binary SOURCE:DEST] [-p DIR] [--hidden-import MODULENAME]\n",
            "                   [--collect-submodules MODULENAME] [--collect-data MODULENAME]\n",
            "                   [--collect-binaries MODULENAME] [--collect-all MODULENAME]\n",
            "                   [--copy-metadata PACKAGENAME] [--recursive-copy-metadata PACKAGENAME]\n",
            "                   [--additional-hooks-dir HOOKSPATH] [--runtime-hook RUNTIME_HOOKS]\n",
            "                   [--exclude-module EXCLUDES] [--splash IMAGE_FILE]\n",
            "                   [-d {all,imports,bootloader,noarchive}] [--optimize LEVEL]\n",
            "                   [--python-option PYTHON_OPTION] [-s] [--noupx] [--upx-exclude FILE] [-c] [-w]\n",
            "                   [--hide-console {hide-late,hide-early,minimize-early,minimize-late}]\n",
            "                   [-i <FILE.ico or FILE.exe,ID or FILE.icns or Image or \"NONE\">]\n",
            "                   [--disable-windowed-traceback] [--version-file FILE] [--manifest <FILE or XML>]\n",
            "                   [-m <FILE or XML>] [-r RESOURCE] [--uac-admin] [--uac-uiaccess]\n",
            "                   [--argv-emulation] [--osx-bundle-identifier BUNDLE_IDENTIFIER]\n",
            "                   [--target-architecture ARCH] [--codesign-identity IDENTITY]\n",
            "                   [--osx-entitlements-file FILENAME] [--runtime-tmpdir PATH]\n",
            "                   [--bootloader-ignore-signals] [--distpath DIR] [--workpath WORKPATH] [-y]\n",
            "                   [--upx-dir UPX_DIR] [--clean] [--log-level LEVEL]\n",
            "                   scriptname [scriptname ...]\n",
            "pyinstaller: error: argument --add-data: Wrong syntax, should be --add-data=SOURCE:DEST\n"
          ]
        }
      ]
    },
    {
      "cell_type": "code",
      "source": [
        "import os\n",
        "os.chdir('/content/drive/My Drive/FinalProject/') # Adjust the path if necessary"
      ],
      "metadata": {
        "id": "WNVJJMHTRdZV"
      },
      "execution_count": null,
      "outputs": []
    },
    {
      "cell_type": "code",
      "source": [
        "import os\n",
        "# Construct the add-data arguments with os.pathsep and escaping potential spaces\n",
        "add_data_args = [\n",
        "    f'--add-data={os.path.abspath(\"base_no_canny.keras\")}{os.pathsep}.',\n",
        "    f'--add-data={os.path.abspath(\"encoder.keras\")}{os.pathsep}.',\n",
        "    f'--add-data={os.path.abspath(\"0.25.keras\")}{os.pathsep}.',\n",
        "    f'--add-data={os.path.abspath(\"encoder_x.keras\")}{os.pathsep}.',\n",
        "]\n",
        "\n",
        "# Build the full PyInstaller command\n",
        "pyinstaller_cmd = [\n",
        "    'pyinstaller',\n",
        "    '--onefile',\n",
        "    '--windowed',\n",
        "    *add_data_args, # Unpack the add_data arguments\n",
        "    '--distpath=/content/drive/My Drive/FinalProject/',  # Specify output path\n",
        "    'app.py'\n",
        "]\n",
        "\n",
        "# Execute the command\n",
        "os.system(' '.join(pyinstaller_cmd))"
      ],
      "metadata": {
        "colab": {
          "base_uri": "https://localhost:8080/"
        },
        "id": "PPL6syruMxId",
        "outputId": "8194d414-cf18-4d3a-eb08-859d18d659c0"
      },
      "execution_count": null,
      "outputs": [
        {
          "output_type": "execute_result",
          "data": {
            "text/plain": [
              "256"
            ]
          },
          "metadata": {},
          "execution_count": 31
        }
      ]
    },
    {
      "cell_type": "code",
      "source": [
        "new_folder_path = 'Executable'  # Or any name you prefer\n",
        "import os\n",
        "os.makedirs(new_folder_path, exist_ok=True)\n",
        "\n",
        "import os\n",
        "# ... (add_data_args remain the same)\n",
        "\n",
        "# Build the PyInstaller command with --distpath\n",
        "pyinstaller_cmd = [\n",
        "    'pyinstaller',\n",
        "    '--onefile',\n",
        "    '--windowed',\n",
        "    *add_data_args,\n",
        "    f'--distpath={new_folder_path}',  # Save in the new folder\n",
        "    'app.py'\n",
        "]\n",
        "\n",
        "# Execute the command\n",
        "os.system(' '.join(pyinstaller_cmd))"
      ],
      "metadata": {
        "colab": {
          "base_uri": "https://localhost:8080/"
        },
        "id": "McVK1QwdRPTp",
        "outputId": "f9b45858-06c7-4dea-d870-65b9b34a95c0"
      },
      "execution_count": null,
      "outputs": [
        {
          "output_type": "execute_result",
          "data": {
            "text/plain": [
              "256"
            ]
          },
          "metadata": {},
          "execution_count": 34
        }
      ]
    },
    {
      "cell_type": "code",
      "source": [
        "# Create a simple Python script named test.py:\n",
        "print(\"Hello, world!\")\n",
        "\n",
        "# Run PyInstaller:\n",
        "!pyinstaller --onefile test.py"
      ],
      "metadata": {
        "colab": {
          "base_uri": "https://localhost:8080/"
        },
        "id": "UCg-pfSRTxEH",
        "outputId": "d644fee9-4f3f-45dc-f590-b960bf21b70f"
      },
      "execution_count": null,
      "outputs": [
        {
          "output_type": "stream",
          "name": "stdout",
          "text": [
            "Hello, world!\n",
            "306 INFO: PyInstaller: 6.11.1, contrib hooks: 2024.10\n",
            "306 INFO: Python: 3.10.12\n",
            "308 INFO: Platform: Linux-6.1.85+-x86_64-with-glibc2.35\n",
            "308 INFO: Python environment: /usr\n",
            "Script file 'test.py' does not exist.\n"
          ]
        }
      ]
    },
    {
      "cell_type": "code",
      "source": [
        "import os\n",
        "print(os.getcwd())"
      ],
      "metadata": {
        "colab": {
          "base_uri": "https://localhost:8080/"
        },
        "id": "6rQaS9arOAgy",
        "outputId": "54c0a650-7947-41a9-8a4b-d1d3055caa21"
      },
      "execution_count": null,
      "outputs": [
        {
          "output_type": "stream",
          "name": "stdout",
          "text": [
            "/content/drive/.shortcut-targets-by-id/1jSrOhQqocwt88cBXGRwOFWQ8gKv3DI8i/FinalProject\n"
          ]
        }
      ]
    }
  ]
}